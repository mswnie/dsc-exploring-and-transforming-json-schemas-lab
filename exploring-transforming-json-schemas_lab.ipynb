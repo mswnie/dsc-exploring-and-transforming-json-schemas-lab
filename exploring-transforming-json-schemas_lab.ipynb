{
 "cells": [
  {
   "cell_type": "markdown",
   "metadata": {},
   "source": [
    "# Exploring and Transforming JSON Schemas - Lab"
   ]
  },
  {
   "cell_type": "markdown",
   "metadata": {},
   "source": [
    "# Introduction\n",
    "\n",
    "In this lab, you'll practice exploring a JSON file whose structure and schema is unknown to you. We will provide you with limited information, and you will explore the dataset to answer the specified question."
   ]
  },
  {
   "cell_type": "markdown",
   "metadata": {},
   "source": [
    "## Objectives\n",
    "\n",
    "You will be able to:\n",
    "\n",
    "* Use the `json` module to load and parse JSON documents\n",
    "* Explore and extract data using unknown JSON schemas\n",
    "* Convert JSON to a pandas dataframe"
   ]
  },
  {
   "cell_type": "markdown",
   "metadata": {},
   "source": [
    "## Your Task: Create a Bar Graph of the Top 10 States with the Highest Asthma Rates for Adults Age 18+\n",
    "\n",
    "The information you need to create this graph is located in `disease_data.json`. It contains both data and metadata.\n",
    "\n",
    "You are given the following codebook/data dictionary:\n",
    "\n",
    "* The actual data values are associated with the key `'DataValue'`\n",
    "* The state names are associated with the key `'LocationDesc'`\n",
    "* To filter to the appropriate records, make sure:\n",
    "  * The `'Question'` is `'Current asthma prevalence among adults aged >= 18 years'`\n",
    "  * The `'StratificationCategoryID1'` is `'OVERALL'`\n",
    "  * The `'DataValueTypeID'` is `'CRDPREV'`\n",
    "  * The `'LocationDesc'` is not `'United States'`\n",
    "  \n",
    "The provided JSON file contains both data and metadata, and you will need to parse the metadata in order to understand the meanings of the values in the data.\n",
    "\n",
    "No further information about the structure of this file is provided."
   ]
  },
  {
   "cell_type": "markdown",
   "metadata": {},
   "source": [
    "## Load the JSON File\n",
    "\n",
    "Load the data from the file `disease_data.json` into a variable `data`."
   ]
  },
  {
   "cell_type": "code",
   "execution_count": 7,
   "metadata": {},
   "outputs": [],
   "source": [
    "import pandas as pd\n",
    "import json"
   ]
  },
  {
   "cell_type": "code",
   "execution_count": 8,
   "metadata": {},
   "outputs": [],
   "source": [
    "# Your code here \n",
    "with open('disease_data.json') as f:\n",
    "    data = json.load(f)"
   ]
  },
  {
   "cell_type": "markdown",
   "metadata": {},
   "source": [
    "## Explore the Overall Structure\n",
    "\n",
    "What is the overall data type of `data`?"
   ]
  },
  {
   "cell_type": "code",
   "execution_count": 10,
   "metadata": {},
   "outputs": [
    {
     "name": "stdout",
     "output_type": "stream",
     "text": [
      "Data is type <class 'dict'>\n"
     ]
    }
   ],
   "source": [
    "# Your code here\n",
    "print(f'Data is type {type(data)}')"
   ]
  },
  {
   "cell_type": "markdown",
   "metadata": {},
   "source": [
    "What are the keys?"
   ]
  },
  {
   "cell_type": "code",
   "execution_count": 11,
   "metadata": {},
   "outputs": [
    {
     "data": {
      "text/plain": [
       "dict_keys(['meta', 'data'])"
      ]
     },
     "execution_count": 11,
     "metadata": {},
     "output_type": "execute_result"
    }
   ],
   "source": [
    "# Your code here\n",
    "data.keys()"
   ]
  },
  {
   "cell_type": "markdown",
   "metadata": {},
   "source": [
    "What are the data types associates with those keys?"
   ]
  },
  {
   "cell_type": "code",
   "execution_count": 16,
   "metadata": {},
   "outputs": [
    {
     "data": {
      "text/plain": [
       "list"
      ]
     },
     "execution_count": 16,
     "metadata": {},
     "output_type": "execute_result"
    }
   ],
   "source": [
    "# Your code here (data)\n",
    "type(data['data'])\n"
   ]
  },
  {
   "cell_type": "code",
   "execution_count": 17,
   "metadata": {},
   "outputs": [
    {
     "data": {
      "text/plain": [
       "dict"
      ]
     },
     "execution_count": 17,
     "metadata": {},
     "output_type": "execute_result"
    }
   ],
   "source": [
    "# Your code here (metadata)\n",
    "type(data['meta'])"
   ]
  },
  {
   "cell_type": "markdown",
   "metadata": {},
   "source": [
    "Perform additional exploration to understand the contents of these values. For dictionaries, what are their keys? For lists, what is the length, and what does the first element look like?"
   ]
  },
  {
   "cell_type": "code",
   "execution_count": 18,
   "metadata": {},
   "outputs": [],
   "source": [
    "data_data = data['data']\n",
    "data_meta = data['meta']"
   ]
  },
  {
   "cell_type": "code",
   "execution_count": 49,
   "metadata": {},
   "outputs": [
    {
     "name": "stdout",
     "output_type": "stream",
     "text": [
      "id : The values of type: <class 'str'>\n",
      "name : The values of type: <class 'str'>\n",
      "attribution : The values of type: <class 'str'>\n",
      "attributionLink : The values of type: <class 'str'>\n",
      "averageRating : The values of type: <class 'int'>\n",
      "category : The values of type: <class 'str'>\n",
      "createdAt : The values of type: <class 'int'>\n",
      "description : The values of type: <class 'str'>\n",
      "displayType : The values of type: <class 'str'>\n",
      "downloadCount : The values of type: <class 'int'>\n",
      "hideFromCatalog : The values of type: <class 'bool'>\n",
      "hideFromDataJson : The values of type: <class 'bool'>\n",
      "indexUpdatedAt : The values of type: <class 'int'>\n",
      "licenseId : The values of type: <class 'str'>\n",
      "newBackend : The values of type: <class 'bool'>\n",
      "numberOfComments : The values of type: <class 'int'>\n",
      "oid : The values of type: <class 'int'>\n",
      "provenance : The values of type: <class 'str'>\n",
      "publicationAppendEnabled : The values of type: <class 'bool'>\n",
      "publicationDate : The values of type: <class 'int'>\n",
      "publicationGroup : The values of type: <class 'int'>\n",
      "publicationStage : The values of type: <class 'str'>\n",
      "rowClass : The values of type: <class 'str'>\n",
      "rowsUpdatedAt : The values of type: <class 'int'>\n",
      "rowsUpdatedBy : The values of type: <class 'str'>\n",
      "tableId : The values of type: <class 'int'>\n",
      "totalTimesRated : The values of type: <class 'int'>\n",
      "viewCount : The values of type: <class 'int'>\n",
      "viewLastModified : The values of type: <class 'int'>\n",
      "viewType : The values of type: <class 'str'>\n",
      "columns : The values of type: <class 'list'>\n",
      "grants : The values of type: <class 'list'>\n",
      "license : The values of type: <class 'dict'>\n",
      "metadata : The values of type: <class 'dict'>\n",
      "owner : The values of type: <class 'dict'>\n",
      "query : The values of type: <class 'dict'>\n",
      "rights : The values of type: <class 'list'>\n",
      "tableAuthor : The values of type: <class 'dict'>\n",
      "tags : The values of type: <class 'list'>\n",
      "flags : The values of type: <class 'list'>\n"
     ]
    }
   ],
   "source": [
    "data_meta['view'].keys()\n",
    "\n",
    "for key, value in data_meta['view'].items():\n",
    "    print(key, \":\", \"The values of type:\", type(value))"
   ]
  },
  {
   "cell_type": "code",
   "execution_count": 42,
   "metadata": {},
   "outputs": [
    {
     "name": "stdout",
     "output_type": "stream",
     "text": [
      "Under data_meta, these are the keys ['view']\n",
      "\n",
      "The view key is of data type <class 'dict'>\n",
      "\n",
      "These are the keys under the view key: ['id', 'name', 'attribution', 'attributionLink', 'averageRating', 'category', 'createdAt', 'description', 'displayType', 'downloadCount', 'hideFromCatalog', 'hideFromDataJson', 'indexUpdatedAt', 'licenseId', 'newBackend', 'numberOfComments', 'oid', 'provenance', 'publicationAppendEnabled', 'publicationDate', 'publicationGroup', 'publicationStage', 'rowClass', 'rowsUpdatedAt', 'rowsUpdatedBy', 'tableId', 'totalTimesRated', 'viewCount', 'viewLastModified', 'viewType', 'columns', 'grants', 'license', 'metadata', 'owner', 'query', 'rights', 'tableAuthor', 'tags', 'flags']\n",
      "\n",
      "There are a total of 40 keys under the view key\n"
     ]
    }
   ],
   "source": [
    "# for data_meta\n",
    "\n",
    "print(f'Under data_meta, these are the keys {list(data_meta.keys())}')\n",
    "print(\"\")\n",
    "print(f'The view key is of data type {type(data_meta[\"view\"])}')\n",
    "print(\"\")\n",
    "print(f'These are the keys under the view key: {list(data_meta[\"view\"].keys())}')\n",
    "print(\"\")\n",
    "print(f'There are a total of {len(data_meta[\"view\"].keys())} keys under the view key')"
   ]
  },
  {
   "cell_type": "code",
   "execution_count": 50,
   "metadata": {},
   "outputs": [
    {
     "name": "stdout",
     "output_type": "stream",
     "text": [
      "data_data has 60266 values\n",
      "The first element is of type: <class 'list'>\n",
      "The first element has a total of 42 values\n"
     ]
    }
   ],
   "source": [
    "# Your code here (add additional cells as needed)\n",
    "\n",
    "# for data_data\n",
    "print(f'data_data has {len(data_data)} values')\n",
    "print(f'The first element is of type: {type(data_data[0])}')\n",
    "print(f'The first element has a total of {len(data_data[0])} values')"
   ]
  },
  {
   "cell_type": "markdown",
   "metadata": {},
   "source": [
    "As you likely identified, we have a list of lists forming the `'data'`. In order to make sense of that list of lists, we need to find the meaning of each index, i.e. the names of the columns.\n",
    "\n",
    "## Identify the Column Names\n",
    "\n",
    "Look through the metadata to find the *names* of the columns, and assign that variable to `column_names`. This should be a list of strings. (If you just get the values associated with the `'columns'` key, you will have a list of dictionaries, not a list of strings.)"
   ]
  },
  {
   "cell_type": "code",
   "execution_count": 65,
   "metadata": {},
   "outputs": [
    {
     "data": {
      "text/plain": [
       "['sid',\n",
       " 'id',\n",
       " 'position',\n",
       " 'created_at',\n",
       " 'created_meta',\n",
       " 'updated_at',\n",
       " 'updated_meta',\n",
       " 'meta',\n",
       " 'YearStart',\n",
       " 'YearEnd',\n",
       " 'LocationAbbr',\n",
       " 'LocationDesc',\n",
       " 'DataSource',\n",
       " 'Topic',\n",
       " 'Question',\n",
       " 'Response',\n",
       " 'DataValueUnit',\n",
       " 'DataValueType',\n",
       " 'DataValue',\n",
       " 'DataValueAlt',\n",
       " 'DataValueFootnoteSymbol',\n",
       " 'DatavalueFootnote',\n",
       " 'LowConfidenceLimit',\n",
       " 'HighConfidenceLimit',\n",
       " 'StratificationCategory1',\n",
       " 'Stratification1',\n",
       " 'StratificationCategory2',\n",
       " 'Stratification2',\n",
       " 'StratificationCategory3',\n",
       " 'Stratification3',\n",
       " 'GeoLocation',\n",
       " 'ResponseID',\n",
       " 'LocationID',\n",
       " 'TopicID',\n",
       " 'QuestionID',\n",
       " 'DataValueTypeID',\n",
       " 'StratificationCategoryID1',\n",
       " 'StratificationID1',\n",
       " 'StratificationCategoryID2',\n",
       " 'StratificationID2',\n",
       " 'StratificationCategoryID3',\n",
       " 'StratificationID3']"
      ]
     },
     "execution_count": 65,
     "metadata": {},
     "output_type": "execute_result"
    }
   ],
   "source": [
    "# Your code here (add additional cells as needed)\n",
    "column_names = []\n",
    "for dicts in data_meta['view']['columns']:\n",
    "    column_names.append(dicts['name'])\n",
    "column_names"
   ]
  },
  {
   "cell_type": "markdown",
   "metadata": {},
   "source": [
    "The following code checks that you have the correct column names:"
   ]
  },
  {
   "cell_type": "code",
   "execution_count": 66,
   "metadata": {},
   "outputs": [],
   "source": [
    "# Run this cell without changes\n",
    "\n",
    "# 42 total columns\n",
    "assert len(column_names) == 42\n",
    "\n",
    "# Each name should be a string, not a dict\n",
    "assert type(column_names[0]) == str and type(column_names[-1]) == str\n",
    "\n",
    "# Check that we have some specific strings\n",
    "assert \"DataValue\" in column_names\n",
    "assert \"LocationDesc\" in column_names\n",
    "assert \"Question\" in column_names\n",
    "assert \"StratificationCategoryID1\" in column_names\n",
    "assert \"DataValueTypeID\" in column_names"
   ]
  },
  {
   "cell_type": "markdown",
   "metadata": {},
   "source": [
    "## Filter Rows Based on Columns\n",
    "\n",
    "Recall that we only want to include records where:\n",
    "\n",
    "* The `'Question'` is `'Current asthma prevalence among adults aged >= 18 years'`\n",
    "* The `'StratificationCategoryID1'` is `'OVERALL'`\n",
    "* The `'DataValueTypeID'` is `'CRDPREV'`\n",
    "* The `'LocationDesc'` is not `'United States'`\n",
    "\n",
    "Combining knowledge of the data and metadata, filter out the rows of data that are not relevant.\n",
    "\n",
    "(You may find the `pandas` library useful here.)"
   ]
  },
  {
   "cell_type": "code",
   "execution_count": 68,
   "metadata": {},
   "outputs": [],
   "source": [
    "# Your code here (add additional cells as needed)\n",
    "\n",
    "question = 'Question'\n",
    "category = 'StratificationCategoryID1'\n",
    "type_ = 'DataValueTypeID'\n",
    "location = 'LocationDesc'\n",
    "\n",
    "question_value = 'Current asthma prevalence among adults aged >= 18 years'\n",
    "category_value = 'OVERALL'\n",
    "type_value = 'CRDPREV'\n",
    "location_value = 'United States'"
   ]
  },
  {
   "cell_type": "code",
   "execution_count": 73,
   "metadata": {},
   "outputs": [
    {
     "name": "stdout",
     "output_type": "stream",
     "text": [
      "54\n",
      "First record: [9369, '6BEC61D0-E04B-44BA-8170-F7D6A4C40A09', 9369, 1527194523, '959778', 1527194523, '959778', None, '2016', '2016', 'AL', 'Alabama', 'BRFSS', 'Asthma', 'Current asthma prevalence among adults aged >= 18 years', None, '%', 'Crude Prevalence', '9.7', '9.7', None, None, '8.8', '10.7', 'Overall', 'Overall', None, None, None, None, [None, '32.84057112200048', '-86.63186076199969', None, False], None, '01', 'AST', 'AST1_1', 'CRDPREV', 'OVERALL', 'OVR', None, None, None, None]\n"
     ]
    }
   ],
   "source": [
    "question_index = column_names.index(question)\n",
    "category_index = column_names.index(category)\n",
    "type_index = column_names.index(type_)\n",
    "location_index = column_names.index(location)\n",
    "\n",
    "filtered_records = []\n",
    "\n",
    "for record in data_data:\n",
    "    if record[question_index] == question_value and \\\n",
    "    record[category_index] == category_value and \\\n",
    "    record[type_index] == type_value and \\\n",
    "    record[location_index] != location_value:\n",
    "        filtered_records.append(record)\n",
    "        \n",
    "print(len(filtered_records))\n",
    "print(\"First record:\", filtered_records[0])"
   ]
  },
  {
   "cell_type": "markdown",
   "metadata": {},
   "source": [
    "You should have 54 records after filtering.\n",
    "\n",
    "## Extract the Attributes Required for Plotting\n",
    "\n",
    "For each record, the only information we actually need for the graph is the `'DataValue'` and `'LocationDesc'`. Create a list of records that only contains these two attributes.\n",
    "\n",
    "Also, make sure that the data values are numbers, not strings."
   ]
  },
  {
   "cell_type": "code",
   "execution_count": 106,
   "metadata": {},
   "outputs": [
    {
     "data": {
      "text/plain": [
       "[[9.7, 'Alabama'],\n",
       " [8.8, 'Alaska'],\n",
       " [9.4, 'Arizona'],\n",
       " [8.5, 'Arkansas'],\n",
       " [7.8, 'California'],\n",
       " [8.8, 'Colorado'],\n",
       " [10.5, 'Connecticut'],\n",
       " [8.5, 'Delaware'],\n",
       " [9.8, 'District of Columbia'],\n",
       " [6.7, 'Florida'],\n",
       " [8.5, 'Georgia'],\n",
       " [10.7, 'Hawaii'],\n",
       " [9.3, 'Idaho'],\n",
       " [8.9, 'Illinois'],\n",
       " [10.2, 'Indiana'],\n",
       " [7.8, 'Iowa'],\n",
       " [8.8, 'Kansas'],\n",
       " [11.6, 'Kentucky'],\n",
       " [8.3, 'Louisiana'],\n",
       " [12.2, 'Maine'],\n",
       " [9.4, 'Maryland'],\n",
       " [10.3, 'Massachusetts'],\n",
       " [10.9, 'Michigan'],\n",
       " [7.6, 'Minnesota'],\n",
       " [8.0, 'Mississippi'],\n",
       " [9.9, 'Missouri'],\n",
       " [8.5, 'Montana'],\n",
       " [8.3, 'Nebraska'],\n",
       " [7.9, 'Nevada'],\n",
       " [11.4, 'New Hampshire'],\n",
       " [8.2, 'New Jersey'],\n",
       " [11.8, 'New Mexico'],\n",
       " [9.5, 'New York'],\n",
       " [8.0, 'North Carolina'],\n",
       " [9.0, 'North Dakota'],\n",
       " [9.7, 'Ohio'],\n",
       " [10.0, 'Oklahoma'],\n",
       " [10.5, 'Oregon'],\n",
       " [10.6, 'Pennsylvania'],\n",
       " [10.7, 'Rhode Island'],\n",
       " [8.8, 'South Carolina'],\n",
       " [6.2, 'South Dakota'],\n",
       " [10.9, 'Tennessee'],\n",
       " [7.6, 'Texas'],\n",
       " [8.2, 'Utah'],\n",
       " [10.2, 'Vermont'],\n",
       " [8.6, 'Virginia'],\n",
       " [9.6, 'Washington'],\n",
       " [11.8, 'West Virginia'],\n",
       " [8.5, 'Wisconsin'],\n",
       " [9.5, 'Wyoming'],\n",
       " [5.1, 'Guam'],\n",
       " [10.7, 'Puerto Rico'],\n",
       " [6.3, 'Virgin Islands']]"
      ]
     },
     "execution_count": 106,
     "metadata": {},
     "output_type": "execute_result"
    }
   ],
   "source": [
    "# Your code here (create additional cells as needed)\n",
    "data_index = column_names.index('DataValue')\n",
    "data_location = []\n",
    "\n",
    "for x in filtered_records:\n",
    "    data_location.append([float(x[data_index]), x[location_index]])\n",
    "    \n",
    "data_location"
   ]
  },
  {
   "cell_type": "markdown",
   "metadata": {},
   "source": [
    "## Find Top 10 States\n",
    "\n",
    "Sort by `'DataValue'` and limit to the first 10 records."
   ]
  },
  {
   "cell_type": "code",
   "execution_count": 107,
   "metadata": {},
   "outputs": [
    {
     "data": {
      "text/plain": [
       "[[12.2, 'Maine'],\n",
       " [11.8, 'New Mexico'],\n",
       " [11.8, 'West Virginia'],\n",
       " [11.6, 'Kentucky'],\n",
       " [11.4, 'New Hampshire'],\n",
       " [10.9, 'Michigan'],\n",
       " [10.9, 'Tennessee'],\n",
       " [10.7, 'Hawaii'],\n",
       " [10.7, 'Rhode Island'],\n",
       " [10.7, 'Puerto Rico']]"
      ]
     },
     "execution_count": 107,
     "metadata": {},
     "output_type": "execute_result"
    }
   ],
   "source": [
    "# Your code here (add additional cells as needed)\n",
    "top_10 = sorted(data_location, key=lambda x: x[0], reverse=True)[:10]\n",
    "top_10"
   ]
  },
  {
   "cell_type": "markdown",
   "metadata": {},
   "source": [
    "## Separate the Names and Values for Plotting\n",
    "\n",
    "Assign the names of the top 10 states to a list-like variable `names`, and the associated values to a list-like variable `values`. Then the plotting code below should work correctly to make the desired bar graph."
   ]
  },
  {
   "cell_type": "code",
   "execution_count": 108,
   "metadata": {},
   "outputs": [],
   "source": [
    "# Replace None with appropriate code\n",
    "\n",
    "names = [name[1] for name in top_10]\n",
    "values = [value[0] for value in top_10]"
   ]
  },
  {
   "cell_type": "code",
   "execution_count": 110,
   "metadata": {},
   "outputs": [
    {
     "data": {
      "image/png": "[encoded data removed]",
      "text/plain": [
       "<Figure size 720x720 with 1 Axes>"
      ]
     },
     "metadata": {
      "needs_background": "light"
     },
     "output_type": "display_data"
    }
   ],
   "source": [
    "# Run this cell without changes\n",
    "\n",
    "import matplotlib.pyplot as plt\n",
    "fig, ax = plt.subplots(figsize=(10,10))\n",
    "\n",
    "ax.barh(names[::-1], values[::-1]) # Values inverted so highest is at top\n",
    "ax.set_title('Adult Asthma Rates by State in 2016')\n",
    "ax.set_xlabel('Percent 18+ with Asthma');"
   ]
  },
  {
   "cell_type": "markdown",
   "metadata": {},
   "source": [
    "## Summary\n",
    "\n",
    "In this lab you got some extended practice exploring the structure of JSON files and visualizing data."
   ]
  }
 ],
 "metadata": {
  "kernelspec": {
   "display_name": "Python (learn env)",
   "language": "python",
   "name": "learn-env"
  },
  "language_info": {
   "codemirror_mode": {
    "name": "ipython",
    "version": 3
   },
   "file_extension": ".py",
   "mimetype": "text/x-python",
   "name": "python",
   "nbconvert_exporter": "python",
   "pygments_lexer": "ipython3",
   "version": "3.8.5"
  },
  "toc": {
   "base_numbering": 1,
   "nav_menu": {},
   "number_sections": true,
   "sideBar": true,
   "skip_h1_title": false,
   "title_cell": "Table of Contents",
   "title_sidebar": "Contents",
   "toc_cell": false,
   "toc_position": {},
   "toc_section_display": true,
   "toc_window_display": false
  }
 },
 "nbformat": 4,
 "nbformat_minor": 2
}
